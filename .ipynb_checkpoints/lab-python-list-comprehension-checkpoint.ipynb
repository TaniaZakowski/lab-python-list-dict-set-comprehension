{
 "cells": [
  {
   "cell_type": "markdown",
   "id": "25d7736c-ba17-4aff-b6bb-66eba20fbf4e",
   "metadata": {},
   "source": [
    "# Lab | List, Dict and Set Comprehension"
   ]
  },
  {
   "cell_type": "markdown",
   "id": "7dd3cbde-675a-4b81-92c3-f728846dbe06",
   "metadata": {},
   "source": [
    "## Exercise: Managing Customer Orders Optimized with Comprehension"
   ]
  },
  {
   "cell_type": "raw",
   "id": "d9f82f87-dd94-48e5-a8eb-91230060d44a",
   "metadata": {},
   "source": [
    "In the previous exercise, you developed a program to manage customer orders and inventory. Now, let's take it a step further and incorporate comprehension into your code.\n",
    "\n",
    "Follow the steps below to complete the exercise:\n",
    "\n",
    "1. Review your code from the previous exercise and identify areas where you can apply comprehension to simplify and streamline your code. \n",
    "\n",
    "    - *Hint: Apply it to initialize inventory, updating the inventory and printing the updated inventory.*\n",
    "    \n",
    "    - For example, in initializing the inventory, we could have:\n",
    "    \n",
    "        ```python\n",
    "        def initialize_inventory(products):\n",
    "            inventory = {product: int(input(f\"Enter the quantity of {product}s available: \")) for product in products}\n",
    "            return inventory\n",
    "\n",
    "        ```\n",
    "<br>\n",
    "    \n",
    "    \n",
    "2. Modify the function get_customer_orders so it prompts the user to enter the number of customer orders and gathers the product names using a loop and user input. Use comprehension.\n",
    "\n",
    "3. Add a new function to calculate the total price of the customer order. For each product in customer_orders, prompt the user to enter the price of that product. Use comprehension to calculate the total price. Note: assume that the user can only have 1 unit of each product.\n",
    "\n",
    "4. Modify the update_inventory function to remove the product from the inventory if its quantity becomes zero after fulfilling the customer orders. Use comprehension to filter out the products with a quantity of zero from the inventory.\n",
    "\n",
    "5. Print the total price of the customer order.\n",
    "\n",
    "Your code should produce output similar to the following:\n",
    "\n",
    "```python\n",
    "Enter the quantity of t-shirts available:  5\n",
    "Enter the quantity of mugs available:  4\n",
    "Enter the quantity of hats available:  3\n",
    "Enter the quantity of books available:  2\n",
    "Enter the quantity of keychains available:  1\n",
    "Enter the number of customer orders:  2\n",
    "Enter the name of a product that a customer wants to order:  hat\n",
    "Enter the name of a product that a customer wants to order:  keychain\n",
    "\n",
    "Order Statistics:\n",
    "Total Products Ordered: 2\n",
    "Percentage of Unique Products Ordered: 40.0\n",
    "\n",
    "Updated Inventory:\n",
    "t-shirt: 5\n",
    "mug: 4\n",
    "hat: 2\n",
    "book: 2\n",
    "Enter the price of keychain:  5\n",
    "Enter the price of hat:  10\n",
    "Total Price: 15.0\n",
    "\n",
    "```\n"
   ]
  },
  {
   "cell_type": "code",
   "execution_count": 4,
   "id": "1e757b9f-5020-44c0-8592-87dc313d72c6",
   "metadata": {},
   "outputs": [],
   "source": [
    "products=[\"t-shirt\", \"mug\", \"hat\", \"book\", \"keychain\"]\n",
    "inventory={}\n",
    "def initialize_inventory(products):\n",
    "    inventory = {product: 0 for product in products}\n",
    "    inventory = {product: int(input(f\"Enter the quantity of {product}s available: \")) for product in products}\n",
    "    return inventory"
   ]
  },
  {
   "cell_type": "code",
   "execution_count": 5,
   "id": "a1fac7da-d7c0-412a-be2d-6176bac77276",
   "metadata": {},
   "outputs": [
    {
     "name": "stdin",
     "output_type": "stream",
     "text": [
      "Enter the quantity of t-shirts available:  5\n",
      "Enter the quantity of mugs available:  5\n",
      "Enter the quantity of hats available:  5\n",
      "Enter the quantity of books available:  5\n",
      "Enter the quantity of keychains available:  5\n"
     ]
    },
    {
     "data": {
      "text/plain": [
       "{'t-shirt': 5, 'mug': 5, 'hat': 5, 'book': 5, 'keychain': 5}"
      ]
     },
     "execution_count": 5,
     "metadata": {},
     "output_type": "execute_result"
    }
   ],
   "source": [
    "initialize_inventory(products)"
   ]
  },
  {
   "cell_type": "code",
   "execution_count": 7,
   "id": "66d68703-6964-4079-aea0-ed32eef1f18f",
   "metadata": {},
   "outputs": [],
   "source": [
    "inventory={'t-shirt': 5, 'mug': 5, 'hat': 5, 'book': 5, 'keychain': 5}"
   ]
  },
  {
   "cell_type": "code",
   "execution_count": 8,
   "id": "6f5cba81-cd59-484d-878e-90b088421c6c",
   "metadata": {},
   "outputs": [],
   "source": [
    "customer_orders=set()\n",
    "def get_customer_orders():\n",
    "    print(\"Please choose products from:\", products)\n",
    "    while True:\n",
    "    \n",
    "        add_more = input(\"Do you want to add a product to your order? (yes/no): \").strip().lower()\n",
    "        if add_more == \"yes\":\n",
    "            new_element = input(\"Enter the product you want to add: \").strip()\n",
    "            customer_orders.add(new_element)\n",
    "            print(f\"Current list: {customer_orders}\")\n",
    "        else:\n",
    "            break\n",
    "\n",
    "    print(\"Your order:\", customer_orders)\n",
    "    return customer_orders\n"
   ]
  },
  {
   "cell_type": "code",
   "execution_count": 9,
   "id": "92ae3ca5-33e2-4cbc-82f8-d38dda0f3ab2",
   "metadata": {},
   "outputs": [
    {
     "name": "stdout",
     "output_type": "stream",
     "text": [
      "Please choose products from: ['t-shirt', 'mug', 'hat', 'book', 'keychain']\n"
     ]
    },
    {
     "name": "stdin",
     "output_type": "stream",
     "text": [
      "Do you want to add a product to your order? (yes/no):  yes\n",
      "Enter the product you want to add:  mug\n"
     ]
    },
    {
     "name": "stdout",
     "output_type": "stream",
     "text": [
      "Current list: {'mug'}\n"
     ]
    },
    {
     "name": "stdin",
     "output_type": "stream",
     "text": [
      "Do you want to add a product to your order? (yes/no):  yes\n",
      "Enter the product you want to add:  book\n"
     ]
    },
    {
     "name": "stdout",
     "output_type": "stream",
     "text": [
      "Current list: {'mug', 'book'}\n"
     ]
    },
    {
     "name": "stdin",
     "output_type": "stream",
     "text": [
      "Do you want to add a product to your order? (yes/no):  no\n"
     ]
    },
    {
     "name": "stdout",
     "output_type": "stream",
     "text": [
      "Your order: {'mug', 'book'}\n"
     ]
    },
    {
     "data": {
      "text/plain": [
       "{'book', 'mug'}"
      ]
     },
     "execution_count": 9,
     "metadata": {},
     "output_type": "execute_result"
    }
   ],
   "source": [
    "get_customer_orders()"
   ]
  },
  {
   "cell_type": "code",
   "execution_count": null,
   "id": "5d5efe11-fc7d-496e-b5c0-e43710944cb8",
   "metadata": {},
   "outputs": [],
   "source": [
    "#def get_customer_orders():\n",
    "    #print(\"Please choose products from:\", products)\n",
    "    #choice=input(\"Do you want to add a product to your order? (yes/no): \").strip().lower()\n",
    "    #new_product=[((input(f\"Enter the product you want to add: \").strip()) if choice == \"yes\"]"
   ]
  },
  {
   "cell_type": "code",
   "execution_count": null,
   "id": "95af439e-dfac-424b-a56c-7e61db46a7c5",
   "metadata": {},
   "outputs": [],
   "source": [
    "#print(\"Please choose products from:\", products)\n",
    "#choice=input(\"Do you want to add a product to your order? (yes/no): \").strip().lower()\n",
    "#new_product=[((input(f\"Enter the product you want to add: \").strip())) if choice == \"yes\"]"
   ]
  },
  {
   "cell_type": "code",
   "execution_count": null,
   "id": "8db8321e-4d33-451c-9e73-9afdbb6e8b04",
   "metadata": {},
   "outputs": [],
   "source": [
    "#def get_customer_orders():\n",
    "    print(\"Please choose products from:\", products)\n",
    "    customer_orders=(input(f\"Enter the product you want to add: \").strip()) if input(\"Do you want to add a product to your order? (yes/no): \").strip().lower()==\"yes\" else break \n",
    "    print(\"Your order:\", customer_orders)\n",
    "    return customer_orders    "
   ]
  },
  {
   "cell_type": "code",
   "execution_count": 10,
   "id": "c11f4c30-49d0-4624-a030-945c9d65b6ab",
   "metadata": {},
   "outputs": [],
   "source": [
    "def calculate_total_price(customer_orders):\n",
    "    prices = [float(input(f\"Enter the price for {product}: \")) for product in customer_orders]\n",
    "    total_price = sum(prices)\n",
    "    return total_price"
   ]
  },
  {
   "cell_type": "code",
   "execution_count": 11,
   "id": "0117e9bf-9485-4306-aa6b-73b4389e678b",
   "metadata": {},
   "outputs": [
    {
     "name": "stdin",
     "output_type": "stream",
     "text": [
      "Enter the price for mug:  6\n",
      "Enter the price for book:  5\n"
     ]
    },
    {
     "data": {
      "text/plain": [
       "11.0"
      ]
     },
     "execution_count": 11,
     "metadata": {},
     "output_type": "execute_result"
    }
   ],
   "source": [
    "calculate_total_price(customer_orders)"
   ]
  },
  {
   "cell_type": "code",
   "execution_count": 12,
   "id": "0244ce91-8186-49c1-ba59-c3638f54b40b",
   "metadata": {},
   "outputs": [
    {
     "name": "stdout",
     "output_type": "stream",
     "text": [
      "{'t-shirt': 5, 'mug': 5, 'hat': 5, 'book': 5, 'keychain': 5}\n"
     ]
    }
   ],
   "source": [
    "print(inventory)"
   ]
  },
  {
   "cell_type": "code",
   "execution_count": 13,
   "id": "3e975308-50b5-4821-8e8e-3d31094502f9",
   "metadata": {},
   "outputs": [],
   "source": [
    "def update_inventory(customer_orders,inventory):\n",
    "    #order=list(customer_orders)\n",
    "    for product in inventory.keys():  \n",
    "        if product in customer_orders:      \n",
    "            inventory[product]=inventory[product]-1\n",
    "        else:\n",
    "            inventory[product]=inventory[product]\n",
    "    inventory = {product: quantity for product, quantity in inventory.items() if quantity > 0}\n",
    "    return inventory\n"
   ]
  },
  {
   "cell_type": "code",
   "execution_count": 14,
   "id": "e2c492f5-d2c3-418e-ade5-49e9f33de28c",
   "metadata": {},
   "outputs": [
    {
     "data": {
      "text/plain": [
       "{'t-shirt': 5, 'mug': 4, 'hat': 5, 'book': 4, 'keychain': 5}"
      ]
     },
     "execution_count": 14,
     "metadata": {},
     "output_type": "execute_result"
    }
   ],
   "source": [
    "update_inventory(customer_orders,inventory)"
   ]
  },
  {
   "cell_type": "code",
   "execution_count": null,
   "id": "3365da67-de1d-425c-9bdf-f7de52cb002c",
   "metadata": {},
   "outputs": [],
   "source": []
  }
 ],
 "metadata": {
  "kernelspec": {
   "display_name": "Python 3 (ipykernel)",
   "language": "python",
   "name": "python3"
  },
  "language_info": {
   "codemirror_mode": {
    "name": "ipython",
    "version": 3
   },
   "file_extension": ".py",
   "mimetype": "text/x-python",
   "name": "python",
   "nbconvert_exporter": "python",
   "pygments_lexer": "ipython3",
   "version": "3.11.7"
  }
 },
 "nbformat": 4,
 "nbformat_minor": 5
}
